{
  "nbformat": 4,
  "nbformat_minor": 0,
  "metadata": {
    "colab": {
      "name": "PRO_C124_PP_V1.ipynb",
      "provenance": [],
      "collapsed_sections": []
    },
    "kernelspec": {
      "name": "python3",
      "display_name": "Python 3"
    },
    "language_info": {
      "name": "python"
    }
  },
  "cells": [
    {
      "cell_type": "markdown",
      "source": [
        "## Imprimir los elementos de una matriz"
      ],
      "metadata": {
        "id": "xZm_Pf8B1ehI"
      }
    },
    {
      "cell_type": "markdown",
      "source": [
        "**Problema**: dada una matriz de 1x1\n",
        "\n",
        "```\n",
        "arr_1d = [53, 78, 90, 12, 15, 65, 44, 32, 29, 36]\n",
        "```\n",
        "\n",
        "1. Imprime el tercer y noveno elemento de la matriz.\n",
        "2. Cambia el tercer y noveno elemento a '100'.\n"
      ],
      "metadata": {
        "id": "Sa43lAGbgtEp"
      }
    },
    {
      "cell_type": "code",
      "source": [
        "# Escribe el código aquí\n",
        "\n"
      ],
      "metadata": {
        "id": "8Tu6DVd_gsyW"
      },
      "execution_count": null,
      "outputs": []
    },
    {
      "cell_type": "markdown",
      "source": [
        "## Actualizar elementos diagonales de una matriz multidimensional"
      ],
      "metadata": {
        "id": "uRA1HzKH1tnN"
      }
    },
    {
      "cell_type": "markdown",
      "source": [
        "**Problema**: dada una matriz de 3x3, cambia todos los elementos diagonales de la matriz a '0'.\n",
        "\n",
        "```\n",
        "\n",
        "arr_2d = [[1,2,3],\n",
        "          [4,5,6],\n",
        "          [7,8,9]]\n",
        "```\n",
        "\n",
        "\n",
        "\n"
      ],
      "metadata": {
        "id": "3eSRw71ohlfT"
      }
    },
    {
      "cell_type": "code",
      "source": [
        "# Escribe el código aquí\n",
        "\n"
      ],
      "metadata": {
        "id": "FR0UU8eohcL2"
      },
      "execution_count": null,
      "outputs": []
    },
    {
      "cell_type": "markdown",
      "source": [
        "## Números de filas y columnas"
      ],
      "metadata": {
        "id": "bXr0ly2R2eWL"
      }
    },
    {
      "cell_type": "markdown",
      "source": [
        "**Problema**: escribe un programa para encontrar el número de filas y columnas presentes en la matriz dada a continuación.\n",
        "\n",
        "Nota: inicializa la matriz usando NumPy.\n",
        "\n",
        "```\n",
        " A= [[9,5,6,1,-2],\n",
        "    [3,-8,1,2,0],\n",
        "    [6,9,3,3,5]]\n",
        "```\n",
        "\n"
      ],
      "metadata": {
        "id": "Zd4zvVe6aDuH"
      }
    },
    {
      "cell_type": "code",
      "execution_count": null,
      "metadata": {
        "id": "Pc1piH7OaABW"
      },
      "outputs": [],
      "source": [
        "# Escribe el código aquí\n",
        "\n"
      ]
    },
    {
      "cell_type": "markdown",
      "source": [
        "## Multiplicación escalar"
      ],
      "metadata": {
        "id": "e-VQUDqo3Z89"
      }
    },
    {
      "cell_type": "markdown",
      "source": [
        "**Problema**: imprime cada elemento de la siguiene matriz. Inicializa la matriz usando NumPy.  <br />\n",
        "También, multiplica la matriz por n = 150 e imprime la matriz después de la multiplicación.\n",
        "   \n",
        "```\n",
        " B=[[-8,0,2,4],[5,2,-1,7]]\n",
        "```\n",
        "\n",
        "\n",
        "   "
      ],
      "metadata": {
        "id": "T49oCERtaugu"
      }
    },
    {
      "cell_type": "code",
      "source": [
        "# Escribe el código aquí\n"
      ],
      "metadata": {
        "id": "lqYsQ20ZgeXy"
      },
      "execution_count": null,
      "outputs": []
    }
  ]
}